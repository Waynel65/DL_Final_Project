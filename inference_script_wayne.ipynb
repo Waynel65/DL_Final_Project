{
  "nbformat": 4,
  "nbformat_minor": 0,
  "metadata": {
    "colab": {
      "provenance": [],
      "gpuType": "T4",
      "machine_shape": "hm"
    },
    "kernelspec": {
      "name": "python3",
      "display_name": "Python 3"
    },
    "language_info": {
      "name": "python"
    },
    "accelerator": "GPU",
    "gpuClass": "standard"
  },
  "cells": [
    {
      "cell_type": "markdown",
      "source": [
        "Make sure you restart runtime after installing the libraries below.\n"
      ],
      "metadata": {
        "id": "5cTEmXUi5XcN"
      }
    },
    {
      "cell_type": "code",
      "execution_count": 1,
      "metadata": {
        "colab": {
          "base_uri": "https://localhost:8080/"
        },
        "id": "N1fRPOTVtqhH",
        "outputId": "861ddc86-61cd-49c4-9fcc-31f6c784b374"
      },
      "outputs": [
        {
          "output_type": "stream",
          "name": "stdout",
          "text": [
            "Looking in indexes: https://pypi.org/simple, https://us-python.pkg.dev/colab-wheels/public/simple/\n",
            "Requirement already satisfied: librosa==0.9.2 in /usr/local/lib/python3.10/dist-packages (0.9.2)\n",
            "Requirement already satisfied: audioread>=2.1.9 in /usr/local/lib/python3.10/dist-packages (from librosa==0.9.2) (3.0.0)\n",
            "Requirement already satisfied: numpy>=1.17.0 in /usr/local/lib/python3.10/dist-packages (from librosa==0.9.2) (1.22.4)\n",
            "Requirement already satisfied: scipy>=1.2.0 in /usr/local/lib/python3.10/dist-packages (from librosa==0.9.2) (1.10.1)\n",
            "Requirement already satisfied: scikit-learn>=0.19.1 in /usr/local/lib/python3.10/dist-packages (from librosa==0.9.2) (1.2.2)\n",
            "Requirement already satisfied: joblib>=0.14 in /usr/local/lib/python3.10/dist-packages (from librosa==0.9.2) (1.2.0)\n",
            "Requirement already satisfied: decorator>=4.0.10 in /usr/local/lib/python3.10/dist-packages (from librosa==0.9.2) (4.4.2)\n",
            "Requirement already satisfied: resampy>=0.2.2 in /usr/local/lib/python3.10/dist-packages (from librosa==0.9.2) (0.4.2)\n",
            "Requirement already satisfied: numba>=0.45.1 in /usr/local/lib/python3.10/dist-packages (from librosa==0.9.2) (0.56.4)\n",
            "Requirement already satisfied: soundfile>=0.10.2 in /usr/local/lib/python3.10/dist-packages (from librosa==0.9.2) (0.12.1)\n",
            "Requirement already satisfied: pooch>=1.0 in /usr/local/lib/python3.10/dist-packages (from librosa==0.9.2) (1.6.0)\n",
            "Requirement already satisfied: packaging>=20.0 in /usr/local/lib/python3.10/dist-packages (from librosa==0.9.2) (23.1)\n",
            "Requirement already satisfied: llvmlite<0.40,>=0.39.0dev0 in /usr/local/lib/python3.10/dist-packages (from numba>=0.45.1->librosa==0.9.2) (0.39.1)\n",
            "Requirement already satisfied: setuptools in /usr/local/lib/python3.10/dist-packages (from numba>=0.45.1->librosa==0.9.2) (67.7.2)\n",
            "Requirement already satisfied: appdirs>=1.3.0 in /usr/local/lib/python3.10/dist-packages (from pooch>=1.0->librosa==0.9.2) (1.4.4)\n",
            "Requirement already satisfied: requests>=2.19.0 in /usr/local/lib/python3.10/dist-packages (from pooch>=1.0->librosa==0.9.2) (2.27.1)\n",
            "Requirement already satisfied: threadpoolctl>=2.0.0 in /usr/local/lib/python3.10/dist-packages (from scikit-learn>=0.19.1->librosa==0.9.2) (3.1.0)\n",
            "Requirement already satisfied: cffi>=1.0 in /usr/local/lib/python3.10/dist-packages (from soundfile>=0.10.2->librosa==0.9.2) (1.15.1)\n",
            "Requirement already satisfied: pycparser in /usr/local/lib/python3.10/dist-packages (from cffi>=1.0->soundfile>=0.10.2->librosa==0.9.2) (2.21)\n",
            "Requirement already satisfied: urllib3<1.27,>=1.21.1 in /usr/local/lib/python3.10/dist-packages (from requests>=2.19.0->pooch>=1.0->librosa==0.9.2) (1.26.15)\n",
            "Requirement already satisfied: certifi>=2017.4.17 in /usr/local/lib/python3.10/dist-packages (from requests>=2.19.0->pooch>=1.0->librosa==0.9.2) (2022.12.7)\n",
            "Requirement already satisfied: charset-normalizer~=2.0.0 in /usr/local/lib/python3.10/dist-packages (from requests>=2.19.0->pooch>=1.0->librosa==0.9.2) (2.0.12)\n",
            "Requirement already satisfied: idna<4,>=2.5 in /usr/local/lib/python3.10/dist-packages (from requests>=2.19.0->pooch>=1.0->librosa==0.9.2) (3.4)\n",
            "Looking in indexes: https://pypi.org/simple, https://us-python.pkg.dev/colab-wheels/public/simple/\n",
            "Requirement already satisfied: transformers in /usr/local/lib/python3.10/dist-packages (4.29.1)\n",
            "Requirement already satisfied: filelock in /usr/local/lib/python3.10/dist-packages (from transformers) (3.12.0)\n",
            "Requirement already satisfied: huggingface-hub<1.0,>=0.14.1 in /usr/local/lib/python3.10/dist-packages (from transformers) (0.14.1)\n",
            "Requirement already satisfied: numpy>=1.17 in /usr/local/lib/python3.10/dist-packages (from transformers) (1.22.4)\n",
            "Requirement already satisfied: packaging>=20.0 in /usr/local/lib/python3.10/dist-packages (from transformers) (23.1)\n",
            "Requirement already satisfied: pyyaml>=5.1 in /usr/local/lib/python3.10/dist-packages (from transformers) (6.0)\n",
            "Requirement already satisfied: regex!=2019.12.17 in /usr/local/lib/python3.10/dist-packages (from transformers) (2022.10.31)\n",
            "Requirement already satisfied: requests in /usr/local/lib/python3.10/dist-packages (from transformers) (2.27.1)\n",
            "Requirement already satisfied: tokenizers!=0.11.3,<0.14,>=0.11.1 in /usr/local/lib/python3.10/dist-packages (from transformers) (0.13.3)\n",
            "Requirement already satisfied: tqdm>=4.27 in /usr/local/lib/python3.10/dist-packages (from transformers) (4.65.0)\n",
            "Requirement already satisfied: fsspec in /usr/local/lib/python3.10/dist-packages (from huggingface-hub<1.0,>=0.14.1->transformers) (2023.4.0)\n",
            "Requirement already satisfied: typing-extensions>=3.7.4.3 in /usr/local/lib/python3.10/dist-packages (from huggingface-hub<1.0,>=0.14.1->transformers) (4.5.0)\n",
            "Requirement already satisfied: urllib3<1.27,>=1.21.1 in /usr/local/lib/python3.10/dist-packages (from requests->transformers) (1.26.15)\n",
            "Requirement already satisfied: certifi>=2017.4.17 in /usr/local/lib/python3.10/dist-packages (from requests->transformers) (2022.12.7)\n",
            "Requirement already satisfied: charset-normalizer~=2.0.0 in /usr/local/lib/python3.10/dist-packages (from requests->transformers) (2.0.12)\n",
            "Requirement already satisfied: idna<4,>=2.5 in /usr/local/lib/python3.10/dist-packages (from requests->transformers) (3.4)\n",
            "Looking in indexes: https://pypi.org/simple, https://us-python.pkg.dev/colab-wheels/public/simple/\n",
            "Requirement already satisfied: unidecode in /usr/local/lib/python3.10/dist-packages (1.3.6)\n",
            "Looking in indexes: https://pypi.org/simple, https://us-python.pkg.dev/colab-wheels/public/simple/\n",
            "Requirement already satisfied: tensorflow_addons in /usr/local/lib/python3.10/dist-packages (0.20.0)\n",
            "Requirement already satisfied: packaging in /usr/local/lib/python3.10/dist-packages (from tensorflow_addons) (23.1)\n",
            "Requirement already satisfied: typeguard<3.0.0,>=2.7 in /usr/local/lib/python3.10/dist-packages (from tensorflow_addons) (2.13.3)\n",
            "Looking in indexes: https://pypi.org/simple, https://us-python.pkg.dev/colab-wheels/public/simple/\n",
            "Requirement already satisfied: multiprocess in /usr/local/lib/python3.10/dist-packages (0.70.14)\n",
            "Requirement already satisfied: dill>=0.3.6 in /usr/local/lib/python3.10/dist-packages (from multiprocess) (0.3.6)\n",
            "Looking in indexes: https://pypi.org/simple, https://us-python.pkg.dev/colab-wheels/public/simple/\n",
            "Requirement already satisfied: kaldiio in /usr/local/lib/python3.10/dist-packages (2.18.0)\n",
            "Requirement already satisfied: numpy in /usr/local/lib/python3.10/dist-packages (from kaldiio) (1.22.4)\n",
            "Looking in indexes: https://pypi.org/simple, https://us-python.pkg.dev/colab-wheels/public/simple/\n",
            "Requirement already satisfied: webrtcvad in /usr/local/lib/python3.10/dist-packages (2.0.10)\n",
            "Looking in indexes: https://pypi.org/simple, https://us-python.pkg.dev/colab-wheels/public/simple/\n",
            "Requirement already satisfied: utils in /usr/local/lib/python3.10/dist-packages (1.0.1)\n"
          ]
        }
      ],
      "source": [
        "## installing the required packages\n",
        "!pip install librosa==0.9.2\n",
        "!pip install transformers\n",
        "!pip install unidecode\n",
        "!pip install tensorflow_addons\n",
        "!pip install multiprocess\n",
        "!pip install kaldiio\n",
        "!pip install webrtcvad\n",
        "!pip install utils"
      ]
    },
    {
      "cell_type": "code",
      "source": [
        "# mounting google drive for the session\n",
        "from google.colab import drive\n",
        "drive.mount('/content/drive')"
      ],
      "metadata": {
        "colab": {
          "base_uri": "https://localhost:8080/"
        },
        "id": "XA1QYnRN933M",
        "outputId": "1ad276b5-3600-415f-e987-b90d8542ee6f"
      },
      "execution_count": 2,
      "outputs": [
        {
          "output_type": "stream",
          "name": "stdout",
          "text": [
            "Drive already mounted at /content/drive; to attempt to forcibly remount, call drive.mount(\"/content/drive\", force_remount=True).\n"
          ]
        }
      ]
    },
    {
      "cell_type": "code",
      "source": [
        "%cd /content/drive/MyDrive/DL_Final_Project/original_repo/"
      ],
      "metadata": {
        "colab": {
          "base_uri": "https://localhost:8080/"
        },
        "id": "g015wW8oNat6",
        "outputId": "67fdfa94-d8e6-4d27-b98e-9da1de6a7a87"
      },
      "execution_count": 3,
      "outputs": [
        {
          "output_type": "stream",
          "name": "stdout",
          "text": [
            "/content/drive/MyDrive/DL_Final_Project/original_repo\n"
          ]
        }
      ]
    },
    {
      "cell_type": "markdown",
      "source": [
        "You will only need to change the `repo_path` below so that it points to the folder that contains source code from the repo\n"
      ],
      "metadata": {
        "id": "NfrMJYHo5qPa"
      }
    },
    {
      "cell_type": "code",
      "source": [
        "# IMPORTS\n",
        "import torch\n",
        "import torch.nn as nn\n",
        "from torch.utils.data import Dataset, DataLoader\n",
        "from transformers import AutoModel\n",
        "import librosa\n",
        "\n",
        "from synthesizer.inference import Synthesizer\n",
        "from synthesizer_like_translator.inference import Synthesizer as Translator\n",
        "from synthesizer.kaldi_interface import KaldiInterface\n",
        "from encoder import inference as encoder_speaker\n",
        "from encoder import inference_accent as encoder_accent\n",
        "from vocoder import inference as vocoder\n",
        "import numpy as np\n",
        "from pathlib import Path\n",
        "from utils.argutils import print_args\n",
        "import random\n",
        "import IPython.display as ipd\n",
        "import os\n",
        "from synthesizer.hparams import hparams\n",
        "\n",
        "## paths set up ##\n",
        "\n",
        "repo_path = '/content/drive/MyDrive/DL_Final_Project/original_repo/' ## CHANGE THIS\n",
        "\n",
        "### SHOULDNT NEED TO CHANGE THESE ###\n",
        "pretrained_models_path = os.path.join(repo_path, \"pretrained_models/\")\n",
        "encoder_speaker_weights = Path(os.path.join(pretrained_models_path, \"pretrained_model/pretrained/encoder/saved_models/pretrained.pt\"))\n",
        "encoder_accent_weights = Path(os.path.join(pretrained_models_path, \"pretrained_model/pretrained/encoder/saved_models/encoder_accent.pt\"))\n",
        "vocoder_weights = Path(os.path.join(pretrained_models_path, \"pretrained_model/pretrained/vocoder/saved_models/pretrained/pretrained.pt\"))\n",
        "syn_dir = Path(os.path.join(pretrained_models_path, \"synthesizer/taco_pretrained\"))\n",
        "syn_dir_trans = Path(os.path.join(pretrained_models_path, \"translator/logs-translator_train/taco_pretrained\"))\n",
        "### SHOULDNT NEED TO CHANGE THESE ###\n",
        "\n",
        "## loading pretrained models for accent encoder and speaker coder\n",
        "encoder_speaker.load_model(encoder_speaker_weights)\n",
        "encoder_accent.load_model(encoder_accent_weights)\n",
        "# synthesizer = Synthesizer(syn_dir)\n",
        "# translator = Translator(syn_dir_trans)\n",
        "# vocoder.load_model(vocoder_weights)"
      ],
      "metadata": {
        "colab": {
          "base_uri": "https://localhost:8080/"
        },
        "id": "MNzJUemgJAsT",
        "outputId": "d5e417eb-e432-49df-80d5-4bcab2d759f5"
      },
      "execution_count": 4,
      "outputs": [
        {
          "output_type": "stream",
          "name": "stderr",
          "text": [
            "/usr/local/lib/python3.10/dist-packages/tensorflow_addons/utils/tfa_eol_msg.py:23: UserWarning: \n",
            "\n",
            "TensorFlow Addons (TFA) has ended development and introduction of new features.\n",
            "TFA has entered a minimal maintenance and release mode until a planned end of life in May 2024.\n",
            "Please modify downstream libraries to take dependencies from other repositories in our TensorFlow community (e.g. Keras, Keras-CV, and Keras-NLP). \n",
            "\n",
            "For more information see: https://github.com/tensorflow/addons/issues/2807 \n",
            "\n",
            "  warnings.warn(\n",
            "WARNING:tensorflow:From /usr/local/lib/python3.10/dist-packages/tensorflow/python/compat/v2_compat.py:107: disable_resource_variables (from tensorflow.python.ops.variable_scope) is deprecated and will be removed in a future version.\n",
            "Instructions for updating:\n",
            "non-resource variables are not supported in the long term\n"
          ]
        },
        {
          "output_type": "stream",
          "name": "stdout",
          "text": [
            "Loaded encoder \"pretrained.pt\" trained to step 1564501\n",
            "Loaded encoder \"encoder_accent.pt\" trained to step 90001\n"
          ]
        }
      ]
    },
    {
      "cell_type": "code",
      "source": [
        "\n",
        "# def synthesize(bnf, embed):\n",
        "#     spec = synthesizer.synthesize_spectrograms([bnf], [embed])[0]\n",
        "#     # print(spec.shape)\n",
        "#     generated_wav = vocoder.infer_waveform(spec)\n",
        "#     generated_wav = np.pad(generated_wav, (0, synthesizer.sample_rate), mode=\"constant\")\n",
        "#     return generated_wav\n",
        "\n",
        "\n",
        "# def translate_ppg(bnf, embed):\n",
        "#     spec = translator.synthesize_spectrograms([bnf], [embed])[0]\n",
        "#     return spec\n",
        "\n",
        "# We will be using these functions that use the pretrained accent/speaker encoder to generate the accent/speaker embeddings\n",
        "def generate_accent_embed(src_utterance_path):\n",
        "    wav, _ = librosa.load(src_utterance_path, hparams.sample_rate)\n",
        "    wav = encoder_speaker.preprocess_wav(wav)\n",
        "    embed_accent = encoder_accent.embed_utterance(wav)\n",
        "\n",
        "    return embed_accent\n",
        "\n",
        "def generate_speaker_embed(tgt_utterance_path):\n",
        "    wav, _ = librosa.load(tgt_utterance_path, hparams.sample_rate)\n",
        "    wav = encoder_speaker.preprocess_wav(wav)\n",
        "    embed_speaker = encoder_speaker.embed_utterance(wav)\n",
        "\n",
        "    return embed_speaker"
      ],
      "metadata": {
        "id": "DYOdgNSDRqfh"
      },
      "execution_count": 5,
      "outputs": []
    },
    {
      "cell_type": "markdown",
      "source": [
        "Example:"
      ],
      "metadata": {
        "id": "B76VRPGD6DTa"
      }
    },
    {
      "cell_type": "markdown",
      "source": [
        "- Since we extracted the BNFs on a local machine, the scp files record the absolute paths to where the BNFs are. And obviously this will not work on google colab because now we have a completely different set of paths (I have tried to use relative paths on local machine but because of how the kaldi script work, it would not work)\n",
        "\n",
        "- We will need to preprocess the scp files again so that they have google drive paths\n",
        "\n",
        "- Run the functions below before loading their BNFs"
      ],
      "metadata": {
        "id": "LyqYiP-7edK-"
      }
    },
    {
      "cell_type": "code",
      "source": [
        "def preprocess_wav_scp(speaker_path):\n",
        "  \"\"\"\n",
        "    input example: /content/drive/MyDrive/DL_Final_Project/speakers/L2_speakers/BWC/\n",
        "  \"\"\"\n",
        "  kaldi_dir = speaker_path+\"kaldi/\"\n",
        "  scp_path = str(os.path.join(kaldi_dir, 'wav.scp'))\n",
        "  new_scp_path =  str(os.path.join(kaldi_dir, 'wav_modified.scp'))\n",
        "  print(scp_path)\n",
        "\n",
        "  with open(scp_path, \"r\") as old_scp, open(new_scp_path, \"w\") as new_scp:\n",
        "        for line in old_scp:\n",
        "            print(line)\n",
        "            parts = line.strip().split()\n",
        "            if len(parts) != 2:\n",
        "                print(f\"Warning: Invalid line in {scp_path}: {line}\")\n",
        "                continue\n",
        "            file_id, old_filepath = parts\n",
        "            # old_filepath is like \"/home/jb7410/ppg2ppg/speakers/L2_speakers/BWC/wav/arctic_a0011.wav\"\n",
        "            head, tail = os.path.split(old_filepath)  \n",
        "            _, tail2 = os.path.split(head)\n",
        "            keep_part = os.path.join(tail2, tail) \n",
        "            \n",
        "            new_filepath = os.path.join(speaker_path, keep_part)\n",
        "            new_scp.write(f\"{file_id} {new_filepath}\\n\")\n",
        "        print(f\"Modified scp file saved at: {new_scp_path}\")\n",
        "\n",
        "def preprocess_feats_scp(speaker_path):\n",
        "  \"\"\"\n",
        "    input example: /content/drive/MyDrive/DL_Final_Project/speakers/L2_speakers/BWC/\n",
        "  \"\"\"\n",
        "  bnf_dir = speaker_path+\"kaldi/bnf/\"\n",
        "  scp_path = str(os.path.join(bnf_dir, 'feats.scp'))\n",
        "  new_scp_path =  str(os.path.join(bnf_dir, 'feats_modified.scp'))\n",
        "  print(scp_path)\n",
        "\n",
        "  with open(scp_path, \"r\") as old_scp, open(new_scp_path, \"w\") as new_scp:\n",
        "      for line in old_scp:\n",
        "          print(line)\n",
        "          parts = line.strip().split()\n",
        "          if len(parts) != 2:\n",
        "              print(f\"Warning: Invalid line in {scp_path}: {line}\")\n",
        "              continue\n",
        "          file_id, old_filepath = parts\n",
        "          # old_filepath is like \"/home/jb7410/ppg2ppg/speakers/L2_speakers/BWC/kaldi/bnf/data/raw_bnfeat_kaldi.1.ark:4248913\"\n",
        "          _, tail = os.path.split(old_filepath)  \n",
        "\n",
        "          new_filepath = os.path.join(bnf_dir+\"data/\", tail)\n",
        "          print(new_filepath)\n",
        "          new_scp.write(f\"{file_id} {new_filepath}\\n\")\n",
        "      print(f\"Modified scp file saved at: {new_scp_path}\")\n",
        "\n",
        "\n",
        "def preprocess_both(speaker_path):\n",
        "  preprocess_wav_scp(speaker_path)\n",
        "  preprocess_feats_scp(speaker_path)\n",
        "\n",
        "  return\n",
        "\n"
      ],
      "metadata": {
        "id": "K6ofy6rFfHEo"
      },
      "execution_count": 6,
      "outputs": []
    },
    {
      "cell_type": "code",
      "source": [
        "## We are combining scp files into one big scp file so that it will be easier for us to load data when using the pytorch dataloader\n",
        "\n",
        "def combine_feats(L2_speaker_path):\n",
        "  combined_feats_path = os.path.join(L2_speaker_path, 'combined_feats.scp')\n",
        "  \n",
        "  # Ensure combined_feats.scp is empty before writing\n",
        "  open(combined_feats_path, 'w').close()\n",
        "\n",
        "  for speaker_id in os.listdir(L2_speaker_path):\n",
        "      print(f\"taking utterances from {speaker_id} now\")\n",
        "      speaker_feats_path = os.path.join(L2_speaker_path, speaker_id, 'kaldi', 'bnf', 'feats_modified.scp')\n",
        "      \n",
        "      if os.path.isfile(speaker_feats_path):\n",
        "          with open(speaker_feats_path, 'r') as speaker_feats_file:\n",
        "              lines = speaker_feats_file.readlines()\n",
        "              \n",
        "          with open(combined_feats_path, 'a') as combined_feats_file:\n",
        "              combined_feats_file.writelines(lines)\n",
        "\n",
        "def combine_wavs(L2_speaker_path):\n",
        "    combined_feats_path = os.path.join(L2_speaker_path, 'combined_wav.scp')\n",
        "  \n",
        "    # Ensure combined_feats.scp is empty before writing\n",
        "    open(combined_feats_path, 'w').close()\n",
        "\n",
        "    for speaker_id in os.listdir(L2_speaker_path):\n",
        "        print(f\"taking utterances from {speaker_id} now\")\n",
        "        speaker_feats_path = os.path.join(L2_speaker_path, speaker_id, 'kaldi','wav_modified.scp')\n",
        "        \n",
        "        if os.path.isfile(speaker_feats_path):\n",
        "            with open(speaker_feats_path, 'r') as speaker_feats_file:\n",
        "                lines = speaker_feats_file.readlines()\n",
        "                \n",
        "            with open(combined_feats_path, 'a') as combined_feats_file:\n",
        "                combined_feats_file.writelines(lines)"
      ],
      "metadata": {
        "id": "3hkcp2Ks-3KM"
      },
      "execution_count": 7,
      "outputs": []
    },
    {
      "cell_type": "code",
      "source": [
        "def gen_acc_embeds(combined_wav_scp_path, output_dir, embed_scp_path):\n",
        "  \"\"\"\n",
        "    this function reads in all the L2 speakers' wav files (definied in the combined_wav.scp)\n",
        "    generate accent embeddings for all of them\n",
        "    and store the embeddings in the disk\n",
        "  \"\"\"\n",
        "  if not os.path.exists(output_dir):\n",
        "      os.makedirs(output_dir)\n",
        "\n",
        "  with open(combined_wav_scp_path, 'r') as combined_wav_scp_file:\n",
        "      lines = combined_wav_scp_file.readlines()\n",
        "\n",
        "  with open(embed_scp_path, 'w') as embed_scp_file:\n",
        "      for line in lines:\n",
        "          scp_id, wav_file_path = line.strip().split()  # assuming the format is: \"id path\"\n",
        "\n",
        "          # Check if the wav file exists\n",
        "          if os.path.isfile(wav_file_path):\n",
        "              accent_embed = generate_accent_embed(wav_file_path)\n",
        "              output_path = os.path.join(output_dir, scp_id + '.npy')\n",
        "              np.save(output_path, accent_embed)\n",
        "\n",
        "              # Write the scp_id and corresponding embedding file path to the embeddings scp file\n",
        "              embed_scp_file.write(f'{scp_id} {output_path}\\n')\n",
        "\n",
        "  print(\"Saved accent embeddings in '{}'.\".format(output_dir))"
      ],
      "metadata": {
        "id": "0KxPcQQt_ty8"
      },
      "execution_count": 8,
      "outputs": []
    },
    {
      "cell_type": "code",
      "source": [
        "## PRE-PROCESSING DATA:\n",
        "\n",
        "# preprocess_feats_scp(\"/content/drive/MyDrive/DL_Final_Project/speakers/L2_speakers/BWC/\")\n",
        "# preprocess_wav_scp(\"/content/drive/MyDrive/DL_Final_Project/speakers/L1_speakers/BDL/\")\n",
        "# preprocess_feats_scp(\"/content/drive/MyDrive/DL_Final_Project/speakers/L1_speakers/BDL/\")\n",
        "\n",
        "# preprocess_both(\"/content/drive/MyDrive/DL_Final_Project/speakers/L2_speakers/ABA/\")\n",
        "# preprocess_both(\"/content/drive/MyDrive/DL_Final_Project/speakers/L2_speakers/EBVS/\")\n",
        "# preprocess_both(\"/content/drive/MyDrive/DL_Final_Project/speakers/L2_speakers/HQTV/\")\n",
        "\n",
        "# combine_feats(\"/content/drive/MyDrive/DL_Final_Project/speakers/L2_speakers/\")\n",
        "# combine_wavs(\"/content/drive/MyDrive/DL_Final_Project/speakers/L2_speakers/\")\n",
        "# gen_acc_embeds(\"/content/drive/MyDrive/DL_Final_Project/speakers/L2_speakers/combined_wav.scp\", \"/content/drive/MyDrive/DL_Final_Project/speakers/L2_speakers/acc_embeds\", \"/content/drive/MyDrive/DL_Final_Project/speakers/L2_speakers/accent_embeds.scp\")\n"
      ],
      "metadata": {
        "id": "FC4eLsyDr7ED"
      },
      "execution_count": 9,
      "outputs": []
    },
    {
      "cell_type": "code",
      "source": [
        "## FUNCTION TO LOAD BNFS AND SEE IF THEY LOAD PROPERLY\n",
        "\n",
        "def load_bnfs_single_utt(speaker_path, speaker_id, utterance_id):\n",
        "  \"\"\"\n",
        "    speaker path example: /content/drive/MyDrive/DL_Final_Project/speakers/L1_speakers/\n",
        "    speaker_id example: \"BDL\"\n",
        "  \"\"\"\n",
        "\n",
        "  kaldi_dir = f\"{speaker_path}{speaker_id}/kaldi\"\n",
        "  ki = KaldiInterface(wav_scp=str(os.path.join(kaldi_dir, 'wav_modified.scp')),\n",
        "                    bnf_scp=str(os.path.join(kaldi_dir, 'bnf/feats_modified.scp')))\n",
        "  bnf = ki.get_feature('_'.join([speaker_id, utterance_id]), 'bnf')\n",
        "\n",
        "  return bnf\n",
        "\n",
        "def load_bnfs_all_utt(speaker_path, speaker_id):\n",
        "  \"\"\"\n",
        "    get all utterances' bnfs for a speaker\n",
        "  \"\"\"\n",
        "\n",
        "  kaldi_dir = f\"{speaker_path}{speaker_id}/kaldi\"\n",
        "\n",
        "  ## need to count the number of utterances in scp file\n",
        "  feat_file = f\"{kaldi_dir}/bnf/feats_modified.scp\"\n",
        "  assert os.path.exists(feat_file)\n",
        "\n",
        "  result = []\n",
        "  with open(feat_file, 'r') as file:\n",
        "     for line in file:\n",
        "      utterance_id, _ = line.strip().split()\n",
        "      utterance_id = utterance_id.replace(\"BDL_\", \"\")\n",
        "      print(utterance_id)\n",
        "      bnf = load_bnfs_single_utt(speaker_path, speaker_id, utterance_id)\n",
        "      result.append(bnf)\n",
        "\n",
        "  return result\n",
        "\n",
        "\n",
        "\n",
        "# bnf = load_bnfs_single_utt(\"/content/drive/MyDrive/DL_Final_Project/speakers/L1_speakers/\", \"BDL\", 'arctic_b0503')\n",
        "# results = load_bnfs_all_utt(\"/content/drive/MyDrive/DL_Final_Project/speakers/L1_speakers/\", \"BDL\")\n",
        "# results[50].shape\n",
        "\n"
      ],
      "metadata": {
        "id": "3ZBD4_7hNvrJ"
      },
      "execution_count": 10,
      "outputs": []
    },
    {
      "cell_type": "code",
      "source": [
        "import os\n",
        "from scipy.io import wavfile\n",
        "import numpy as np\n",
        "\n",
        "### PLAYING AROUND WITH BNFS ###\n",
        "\n",
        "### CHANGE THESE AS NEEDED ###\n",
        "utterance_id = 'arctic_b0503'\n",
        "L1_speaker_id = \"BDL\"\n",
        "L1_speaker_path = \"/content/drive/MyDrive/DL_Final_Project/speakers/L1_speakers/\"\n",
        "L2_speaker_id = 'BWC'\n",
        "L2_speaker_path = \"/content/drive/MyDrive/DL_Final_Project/speakers/L2_speakers/\"\n",
        "\n",
        "L1_wav_path =f\"{L1_speaker_path}{L1_speaker_id}/wav/\"\n",
        "\n",
        "L2_wav_path = f\"{L2_speaker_path}{L2_speaker_id}/wav/\"\n",
        "### CHANGE THESE AS NEEDED ###\n",
        "\n",
        "## Loading the BNFs\n",
        "L1_bnf = load_bnfs_single_utt(L1_speaker_path, L1_speaker_id, utterance_id)\n",
        "L2_bnf = load_bnfs_single_utt(L2_speaker_path, L2_speaker_id, utterance_id)\n",
        "\n",
        "## GETTING THE EMBEDDINGS\n",
        "acc_utterance_path = L1_wav_path + str(utterance_id) + '.wav'\n",
        "speak_utterance_path = L2_wav_path + str(utterance_id) + '.wav'\n",
        "embed_speaker = generate_speaker_embed(acc_utterance_path) # used accent utterance path just for the example\n",
        "embed_accent = generate_accent_embed(acc_utterance_path)\n",
        "\n",
        "print(L1_bnf.shape)\n",
        "print(L2_bnf.shape)\n",
        "print(embed_speaker.shape)"
      ],
      "metadata": {
        "id": "jxLEkyl_TG_0",
        "colab": {
          "base_uri": "https://localhost:8080/"
        },
        "outputId": "2f2af415-7a47-4e94-cc1e-eecfbab512f3"
      },
      "execution_count": 11,
      "outputs": [
        {
          "output_type": "stream",
          "name": "stderr",
          "text": [
            "<ipython-input-5-5140467d96d3>:22: FutureWarning: Pass sr=16000 as keyword args. From version 0.10 passing these as positional arguments will result in an error\n",
            "  wav, _ = librosa.load(tgt_utterance_path, hparams.sample_rate)\n",
            "/content/drive/MyDrive/DL_Final_Project/original_repo/encoder/audio.py:47: FutureWarning: Pass y=[0.0012207  0.00146484 0.00128174 ... 0.         0.         0.        ], sr=16000 as keyword args. From version 0.10 passing these as positional arguments will result in an error\n",
            "  frames = librosa.feature.melspectrogram(\n"
          ]
        },
        {
          "output_type": "stream",
          "name": "stdout",
          "text": [
            "(329, 256)\n",
            "(542, 256)\n",
            "(256,)\n"
          ]
        },
        {
          "output_type": "stream",
          "name": "stderr",
          "text": [
            "<ipython-input-5-5140467d96d3>:15: FutureWarning: Pass sr=16000 as keyword args. From version 0.10 passing these as positional arguments will result in an error\n",
            "  wav, _ = librosa.load(src_utterance_path, hparams.sample_rate)\n"
          ]
        }
      ]
    },
    {
      "cell_type": "markdown",
      "source": [
        "Architecture of our transformer based translator:\n",
        "- input: L2_BNFs + L2 Accent Embeddings\n",
        "- it is probably a good idea to pass the L2 accent embeddings after the BNFs have gone through the encoder layer\n",
        "- need to generate positional encoding (will also be part of input)\n",
        "- output: L1 BNFs\n",
        "\n",
        "We will be using a pretrained transformer model and finetune it to our needs\n",
        "\n"
      ],
      "metadata": {
        "id": "jkGA6gFx2C81"
      }
    },
    {
      "cell_type": "code",
      "source": [
        "# defining our custom dataset class\n",
        "\n",
        "from torch.utils.data import Dataset\n",
        "import warnings\n",
        "\n",
        "class BNFDataset(Dataset):\n",
        "  \"\"\"\n",
        "    here the L2 scp files should be a big concatenated list of all bnfs\n",
        "  \"\"\"\n",
        "  def __init__(self, L1_wav_scp, L2_wav_scp, L1_feats_scp, L2_feats_scp, accent_embds_scp):\n",
        "      # each of these should just be storing a path\n",
        "      # remember to provide the modified version of scp\n",
        "\n",
        "      self.L1_wav_scp = L1_wav_scp\n",
        "      self.L2_wav_scp = L2_wav_scp\n",
        "      self.L1_feats_scp = L1_feats_scp\n",
        "      self.L2_feats_scp = L2_feats_scp\n",
        "      self.embed_scp = accent_embds_scp\n",
        "      # self.L2_accent_embedding = L2_accent_embedding\n",
        "\n",
        "  def load_bnfs_single_utt(self, wav_scp, feats_scp, speaker_id, utterance_id):\n",
        "      ki = KaldiInterface(wav_scp=wav_scp, bnf_scp=feats_scp)\n",
        "      # print('_'.join([speaker_id, utterance_id]))\n",
        "      bnf = ki.get_feature('_'.join([speaker_id, utterance_id]), 'bnf')\n",
        "      \n",
        "      return bnf\n",
        "  \n",
        "\n",
        "  def load_scp_as_dict(self, scp_path):\n",
        "      scp_dict = {}\n",
        "      with open(scp_path, 'r') as f:\n",
        "          for line in f:\n",
        "              utterance_id, file_location = line.strip().split()\n",
        "              # split_key = key.split('_')\n",
        "              # utterance_id = str(split_key[1]) + '_' + str(split_key[2])\n",
        "              # print(utterance_id)\n",
        "              scp_dict[utterance_id] = file_location\n",
        "      return scp_dict\n",
        "  \n",
        "  def get_embeddings(self, artic_id):\n",
        "      embed_dict = self.load_scp_as_dict(self.embed_scp)\n",
        "      embed_file = embed_dict[artic_id]\n",
        "      return np.load(embed_file)\n",
        "      # wav_scp_dict = self.load_scp_as_dict(self.L2_wav_scp)\n",
        "      # wav_file = wav_scp_dict[artic_id]\n",
        "      # with warnings.catch_warnings():\n",
        "      #   warnings.simplefilter(\"ignore\")  # Ignore all warnings\n",
        "      #   embed_accent = generate_accent_embed(wav_file)\n",
        "\n",
        "      # print(f\"embed accent shape: {embed_accent.shape}\")\n",
        "      # return embed_accent\n",
        "\n",
        "  def __len__(self):\n",
        "      \"\"\"\n",
        "        this give the number of samples (i.e. the number of total L2 BNFs)\n",
        "      \"\"\"\n",
        "      l2_scp_dict = self.load_scp_as_dict(self.L2_feats_scp)\n",
        "      return len(l2_scp_dict)\n",
        "\n",
        "  def __getitem__(self, idx):\n",
        "      # L2_speaker_list = [\"ABA\", \"EBVS\", ]\n",
        "      L2_scp_dict = self.load_scp_as_dict(self.L2_feats_scp)\n",
        "      artic_id = list(L2_scp_dict.keys())[idx]\n",
        "      # print(f\"a random utterance: {artic_id}\")\n",
        "\n",
        "      split_utter = artic_id.split('_')\n",
        "      L2_speaker_id = split_utter[0]\n",
        "      utterance_id = str(split_utter[1]) + '_' + str(split_utter[2])\n",
        "      # rand_idx = random.randint(0, len(L2_speaker_list)-1)\n",
        "      # L2_speaker_id = L2_speaker_list[rand_idx]\n",
        "\n",
        "\n",
        "      # print(type(self.L1_wav_scp))\n",
        "\n",
        "      L1_bnf = self.load_bnfs_single_utt(self.L1_wav_scp, self.L1_feats_scp, \"BDL\", utterance_id)\n",
        "      L2_bnf = self.load_bnfs_single_utt(self.L2_wav_scp, self.L2_feats_scp, L2_speaker_id, utterance_id)\n",
        "      # print(artic_id)\n",
        "      L2_accent_embedding = self.get_embeddings(artic_id)\n",
        "      return L1_bnf, L2_bnf, L2_accent_embedding\n",
        "      # return L1_bnf, L2_bnf\n",
        "\n",
        "\n",
        "L1_wav_scp = \"/content/drive/MyDrive/DL_Final_Project/speakers/L1_speakers/BDL/kaldi/wav_modified.scp\"\n",
        "L2_wav_scp = \"/content/drive/MyDrive/DL_Final_Project/speakers/L2_speakers/combined_wav.scp\"\n",
        "L1_feats_scp = \"/content/drive/MyDrive/DL_Final_Project/speakers/L1_speakers/BDL/kaldi/bnf/feats_modified.scp\"\n",
        "L2_feats_scp = \"/content/drive/MyDrive/DL_Final_Project/speakers/L2_speakers/combined_feats.scp\"\n",
        "accent_embds_scp = \"/content/drive/MyDrive/DL_Final_Project/speakers/L2_speakers/accent_embeds.scp\"\n",
        "\n",
        "dataset = BNFDataset(L1_wav_scp, L2_wav_scp, L1_feats_scp, L2_feats_scp, accent_embds_scp)\n",
        "dataset.__getitem__(500)"
      ],
      "metadata": {
        "id": "JgwdOVRxc5bU"
      },
      "execution_count": null,
      "outputs": []
    },
    {
      "cell_type": "code",
      "source": [
        "# data loading\n",
        "from torch.utils.data import random_split\n",
        "from torch.nn.utils.rnn import pad_sequence\n",
        "\n",
        "class CollateFunction:\n",
        "    \"\"\"\n",
        "      we define how we pad the our input bnfs so that they can be stacked in the dataloader\n",
        "      (i.e. the bnfs in each batch will have bnfs of same length)\n",
        "    \"\"\"\n",
        "    def __init__(self, padding_value=0):\n",
        "        self.padding_value = padding_value\n",
        "\n",
        "    def __call__(self, batch):\n",
        "        # Separate the input data and targets\n",
        "        targets, inputs , acc_embed = zip(*batch)\n",
        "\n",
        "        # Pad the input data\n",
        "        inputs = pad_sequence([torch.tensor(data) for data in inputs],\n",
        "                              batch_first=True, padding_value=self.padding_value)\n",
        "        \n",
        "        # Create attention masks\n",
        "        input_masks = (inputs != self.padding_value).long()\n",
        "        \n",
        "        # Pad the target data\n",
        "        targets = pad_sequence([torch.tensor(data) for data in targets],\n",
        "                               batch_first=True, padding_value=self.padding_value)\n",
        "        \n",
        "        acc_embed = torch.stack([torch.tensor(embed) for embed in acc_embed])\n",
        "\n",
        "\n",
        "        return inputs, acc_embed, input_masks, targets\n",
        "\n",
        "## get our custom dataset\n",
        "dataset = BNFDataset(L1_wav_scp, L2_wav_scp, L1_feats_scp, L2_feats_scp, accent_embds_scp)\n",
        "\n",
        "# Let's say dataset is your Dataset object\n",
        "dataset_size = len(dataset)\n",
        "train_size = int(0.8 * dataset_size)  # 80% for training\n",
        "test_size = dataset_size - train_size  # 20% for testing\n",
        "\n",
        "train_dataset, test_dataset = random_split(dataset, [train_size, test_size])\n",
        "train_loader = DataLoader(train_dataset, batch_size=8, shuffle=True, collate_fn=CollateFunction(padding_value=0))\n",
        "test_loader = DataLoader(test_dataset, batch_size=8, shuffle=False, collate_fn=CollateFunction(padding_value=0))\n",
        "\n",
        "\n"
      ],
      "metadata": {
        "id": "HoLYeLbt67d0"
      },
      "execution_count": 13,
      "outputs": []
    },
    {
      "cell_type": "markdown",
      "source": [
        "ATTEMPT 1: Build a translator with Bert\n",
        "\n",
        "This part did not work due to the constraints that Bert only allows 512 tokens for each input while our inputs are much larger than that"
      ],
      "metadata": {
        "id": "S6-MkBwMBS3C"
      }
    },
    {
      "cell_type": "code",
      "source": [
        "## building translator transformer model\n",
        "# https://huggingface.co/docs/transformers/model_doc/encoder-decoder\n",
        "\n",
        "from transformers import BertModel, BertTokenizer\n",
        "\n",
        "class transformer_translator(nn.Module):\n",
        "  def __init__(self, accent_embedding_dim, output_dim=256): # output_dim: size of vectorized BNFs\n",
        "        super().__init__()\n",
        "\n",
        "        # Pretrained BERT model for the encoder\n",
        "        self.encoder = BertModel.from_pretrained(\"bert-base-uncased\")\n",
        "\n",
        "        # self.input_transform = nn.Conv1d(feature_size, self.encoder.config.hidden_size, 1)\n",
        "\n",
        "        # An additional layer to transform the accent embedding to match the BERT dimensionality\n",
        "        self.accent_transform = nn.Linear(accent_embedding_dim, self.encoder.config.hidden_size)\n",
        "\n",
        "        # Pretrained BERT model for the decoder\n",
        "        self.decoder = BertModel.from_pretrained(\"bert-base-uncased\")\n",
        "\n",
        "        # Final output layer\n",
        "        self.output_layer = nn.Linear(self.decoder.config.hidden_size, output_dim)\n",
        "\n",
        "\n",
        "  def forward(self, bnfs, accent_embeddings, input_masks):\n",
        "      # Pass the bnfs through the encoder\n",
        "      # bnfs = self.input_transform(bnfs.transpose(1, 2)).transpose(1, 2)\n",
        "      bnfs = bnfs.view(bnfs.size(0), -1)\n",
        "      encoder_output = self.encoder(bnfs, attention_mask=input_masks).last_hidden_state\n",
        "\n",
        "      # Transform the accent embedding and unsqueeze to match encoder output dimensions\n",
        "      transformed_accent = self.accent_transform(accent_embeddings).unsqueeze(1).repeat(1, encoder_output.size(1), 1)\n",
        "\n",
        "      # Concatenate the encoder output with the transformed accent embedding along the last dimension\n",
        "      concat = torch.cat((encoder_output, transformed_accent), dim=-1)\n",
        "\n",
        "      # Pass the concatenated tensor through the decoder\n",
        "      decoder_output = self.decoder(concat).last_hidden_state\n",
        "\n",
        "      # Pass the decoder output through the output layer to generate translated BNFs\n",
        "      translated_bnfs = self.output_layer(decoder_output)\n",
        "\n",
        "      return translated_bnfs\n"
      ],
      "metadata": {
        "id": "tq9fNoBB1kdx"
      },
      "execution_count": 14,
      "outputs": []
    },
    {
      "cell_type": "code",
      "source": [
        "#! testing with the bert model but it didn't work out:\n",
        "\n",
        "# device = torch.device(\"cuda\" if torch.cuda.is_available() else \"cpu\")\n",
        "# batch = next(iter(train_loader))\n",
        "# bnfs, acc_embed, input_masks, targets = batch\n",
        "\n",
        "# bnfs = bnfs.to(device)\n",
        "# acc_embed = acc_embed.to(device)\n",
        "# input_masks = input_masks.to(device)\n",
        "# targets = targets.to(device)\n",
        "\n",
        "# print(bnfs.shape)\n",
        "# print(acc_embed.shape)\n",
        "# print(input_masks.shape)\n",
        "# model = transformer_translator(256).to(device)\n",
        "# outputs = model(bnfs, acc_embed, input_masks) => NOT WORKING\n"
      ],
      "metadata": {
        "id": "M_RZXIJ6QH3v"
      },
      "execution_count": 15,
      "outputs": []
    },
    {
      "cell_type": "code",
      "source": [
        "# second attempt on translator model (with help of CHATGPT)\n",
        "\n",
        "# This class is used to implement Positional Encoding\n",
        "class PositionalEncoding(nn.Module):\n",
        "\n",
        "    def __init__(self, d_model, dropout=0.1, max_len=5000):\n",
        "        super(PositionalEncoding, self).__init__()\n",
        "        # Apply dropout with a given probability\n",
        "        self.dropout = nn.Dropout(p=dropout)\n",
        "\n",
        "        # Create a zero matrix of shape [max_len, d_model]\n",
        "        pe = torch.zeros(max_len, d_model)\n",
        "        # Create a position tensor of shape [max_len, 1]\n",
        "        position = torch.arange(0, max_len, dtype=torch.float).unsqueeze(1)\n",
        "        div_term = torch.exp(torch.arange(0, d_model, 2).float() * (-torch.log(torch.tensor(10000.0)) / d_model))\n",
        "        # Apply sine to even indices in the array; 2i\n",
        "        pe[:, 0::2] = torch.sin(position * div_term)\n",
        "        # Apply cosine to odd indices in the array; 2i+1\n",
        "        pe[:, 1::2] = torch.cos(position * div_term)\n",
        "        pe = pe.unsqueeze(0).transpose(0, 1)\n",
        "        # Register pe as a buffer that should not to be considered a model parameter\n",
        "        self.register_buffer('pe', pe)\n",
        "\n",
        "    def forward(self, x):\n",
        "        # Add positional encoding to the input\n",
        "        x = x + self.pe[:x.size(0), :]\n",
        "        # Apply dropout\n",
        "        return self.dropout(x)\n",
        "\n",
        "class MyTransformer(nn.Module):\n",
        "    def __init__(self, d_model, nhead, num_encoder_layers, num_decoder_layers, dim_feedforward):\n",
        "        super(MyTransformer, self).__init__()\n",
        "        \n",
        "        # Define positional encoding for the encoder\n",
        "        self.pos_encoder = PositionalEncoding(d_model)\n",
        "        # Define transformer encoder\n",
        "        encoder_layer = nn.TransformerEncoderLayer(d_model, nhead, dim_feedforward)\n",
        "        self.transformer_encoder = nn.TransformerEncoder(encoder_layer, num_encoder_layers)\n",
        "        \n",
        "        # Define positional encoding for the decoder\n",
        "        self.pos_decoder = PositionalEncoding(d_model)\n",
        "        # Define transformer decoder\n",
        "        decoder_layer = nn.TransformerDecoderLayer(d_model, nhead, dim_feedforward)\n",
        "        self.transformer_decoder = nn.TransformerDecoder(decoder_layer, num_decoder_layers)\n",
        "        \n",
        "        # Define a linear transformation to map from (d_model + 256) to d_model\n",
        "        self.fc = nn.Linear(d_model+256, d_model)\n",
        "\n",
        "    def forward(self, src, tgt, accent_embeddings):\n",
        "        # Transpose the input to match the expected input shape for the encoder\n",
        "        src = src.transpose(0, 1)\n",
        "        # Apply positional encoding to the source input\n",
        "        src = self.pos_encoder(src)\n",
        "        \n",
        "        # Transpose the target to match the expected input shape for the decoder\n",
        "        tgt = tgt.transpose(0, 1)\n",
        "        # Apply positional encoding to the target input\n",
        "        tgt = self.pos_decoder(tgt)\n",
        "        \n",
        "        # Pass the source input through the transformer encoder\n",
        "        memory = self.transformer_encoder(src)\n",
        "\n",
        "        # Repeat and concatenate the accent embeddings to the encoder output\n",
        "        accent_embeddings = accent_embeddings.unsqueeze(0).repeat(src.size(0), 1, 1)\n",
        "        memory = torch.cat((memory, accent_embeddings), dim=-1)\n",
        "\n",
        "        # Pass the concatenated tensor through the linear layer\n",
        "        memory = self.fc(memory)\n",
        "\n",
        "        # Pass the target input and the transformed source input to the transformer decoder\n",
        "        out = self.transformer_decoder(tgt, memory)\n",
        "\n",
        "        # Transpose the output back to (N, T, E)\n",
        "        return out.transpose(0,1)\n",
        "\n"
      ],
      "metadata": {
        "id": "0VuL1SCN2mX8"
      },
      "execution_count": 16,
      "outputs": []
    },
    {
      "cell_type": "code",
      "source": [
        "## defining hyperparameters and model here\n",
        "\n",
        "device = torch.device(\"cuda\" if torch.cuda.is_available() else \"cpu\")\n",
        "batch = next(iter(train_loader))\n",
        "bnfs, acc_embed, input_masks, targets = batch\n",
        "\n",
        "bnfs = bnfs.to(device)\n",
        "acc_embed = acc_embed.to(device)\n",
        "input_masks = input_masks.to(device)\n",
        "targets = targets.to(device)\n",
        "\n",
        "print(bnfs.shape)\n",
        "print(acc_embed.shape)\n",
        "print(input_masks.shape)\n",
        "\n",
        "# Hyperparameters\n",
        "d_model = 256  # Number of features in the input\n",
        "nhead = 8  # Number of attention heads\n",
        "num_encoder_layers = 4  # Number of layers in the encoder\n",
        "num_decoder_layers = 4  # Number of layers in the decoder\n",
        "dim_feedforward = 1024  # Dimensionality of the feedforward network\n",
        "\n",
        "# Create an instance of the model\n",
        "model = MyTransformer(d_model, nhead, num_encoder_layers, num_decoder_layers, dim_feedforward)\n",
        "model.to(device)\n",
        "out = model(bnfs, targets, acc_embed)\n",
        "\n",
        "\n",
        "print(out.shape)\n"
      ],
      "metadata": {
        "colab": {
          "base_uri": "https://localhost:8080/"
        },
        "id": "l6shLRYJ9dRZ",
        "outputId": "5554cb50-9410-4b50-92d6-a7d5ec295309"
      },
      "execution_count": 17,
      "outputs": [
        {
          "output_type": "stream",
          "name": "stdout",
          "text": [
            "torch.Size([8, 811, 256])\n",
            "torch.Size([8, 256])\n",
            "torch.Size([8, 811, 256])\n",
            "torch.Size([8, 439, 256])\n"
          ]
        }
      ]
    },
    {
      "cell_type": "code",
      "source": [
        "def count_parameters(model):\n",
        "  return sum(p.numel() for p in model.parameters() if p.requires_grad)\n",
        "\n",
        "  \n",
        "print(\"Number of trainable parameters\",count_parameters(model))"
      ],
      "metadata": {
        "id": "RyC--r6L_O_H",
        "colab": {
          "base_uri": "https://localhost:8080/"
        },
        "outputId": "f4c050ed-9ef5-4d84-ce22-35c5e3c5e91d"
      },
      "execution_count": 18,
      "outputs": [
        {
          "output_type": "stream",
          "name": "stdout",
          "text": [
            "Number of trainable parameters 7504128\n"
          ]
        }
      ]
    },
    {
      "cell_type": "code",
      "source": [
        "from tqdm import tqdm\n",
        "\n",
        "\n",
        "def train(model, train_loader, criterion, optimizer, device):\n",
        "    model.train()  # Set the model to training mode\n",
        "    total_loss = 0\n",
        "\n",
        "    for i, batch in enumerate(tqdm(train_loader, desc=\"Training\")):\n",
        "        bnfs, acc_embed, input_masks, targets = batch\n",
        "        bnfs = bnfs.to(device)\n",
        "        acc_embed = acc_embed.to(device)\n",
        "        input_masks = input_masks.to(device)\n",
        "        targets = targets.to(device)\n",
        "\n",
        "        optimizer.zero_grad()  # Reset the gradients\n",
        "        output = model(bnfs, targets, acc_embed)  # Forward pass\n",
        "        loss = criterion(output, targets)  # Compute the loss\n",
        "        loss.backward()  # Backward pass\n",
        "        optimizer.step()  # Update the weights\n",
        "\n",
        "        total_loss += loss.item()\n",
        "\n",
        "    return total_loss / len(train_loader)  # Return the average loss\n",
        "\n",
        "def evaluate(model, test_loader, criterion, device):\n",
        "    model.eval()  # Set the model to evaluation mode\n",
        "    total_loss = 0\n",
        "\n",
        "    with torch.no_grad():  # No need to track gradients in evaluation mode\n",
        "        for i, batch in enumerate(tqdm(test_loader, desc=\"Evaluating\")):\n",
        "            # print(f\"loading batch {i} for evaluation\")\n",
        "            bnfs, acc_embed, input_masks, targets = batch\n",
        "            bnfs = bnfs.to(device)\n",
        "            acc_embed = acc_embed.to(device)\n",
        "            input_masks = input_masks.to(device)\n",
        "            targets = targets.to(device)\n",
        "\n",
        "            output = model(bnfs, targets, acc_embed)  # Forward pass\n",
        "            loss = criterion(output, targets)  # Compute the loss\n",
        "\n",
        "            total_loss += loss.item()\n",
        "            # print(f\"finished batch {i} for evaluation\")\n",
        "    return total_loss / len(test_loader)  # Return the average loss"
      ],
      "metadata": {
        "id": "ydFtszvE-PJv"
      },
      "execution_count": 19,
      "outputs": []
    },
    {
      "cell_type": "code",
      "source": [
        "# Prepare your data here (BNFs, Mel-spectrograms, and speaker embeddings)\n",
        "\n",
        "train_losses = []\n",
        "test_losses = []\n",
        "def train_model(model, train_loader, val_loader, criterion, optimizer, device, num_epochs):\n",
        "    best_val_loss = 99999\n",
        "    for epoch in range(num_epochs):\n",
        "        train_loss = train(model, train_loader, criterion, optimizer, device)\n",
        "        # test_loss = evaluate(model, val_loader, criterion, device)\n",
        "        train_losses.append(train_loss)\n",
        "        # test_losses.append(test_loss)\n",
        "\n",
        "        print(f'Epoch {epoch+1}')\n",
        "        print(f'\\tTrain Loss: {train_loss:.3f}')\n",
        "        # print(f'\\t Test. Loss: {test_loss:.3f}')\n",
        "        if train_loss < best_val_loss:\n",
        "          best_val_loss = train_loss\n",
        "          torch.save(model.state_dict(), \"best_model.pth\")\n",
        "          print(\"Best model saved!\")"
      ],
      "metadata": {
        "id": "BDP2_O1i-d8P"
      },
      "execution_count": 20,
      "outputs": []
    },
    {
      "cell_type": "code",
      "source": [
        "# Specify the loss function\n",
        "criterion = nn.MSELoss()\n",
        "\n",
        "# Specify the optimizer\n",
        "optimizer = torch.optim.Adam(model.parameters())\n",
        "\n",
        "# Number of training epochs\n",
        "num_epochs = 20\n",
        "\n",
        "# Train the model\n",
        "train_model(model, train_loader, test_loader, criterion, optimizer, device, num_epochs)\n"
      ],
      "metadata": {
        "colab": {
          "base_uri": "https://localhost:8080/"
        },
        "id": "pzgLbvKW_5nS",
        "outputId": "369cac26-a721-4eec-f632-781338389ded"
      },
      "execution_count": 21,
      "outputs": [
        {
          "output_type": "stream",
          "name": "stderr",
          "text": [
            "Training: 100%|██████████| 553/553 [03:28<00:00,  2.66it/s]\n"
          ]
        },
        {
          "output_type": "stream",
          "name": "stdout",
          "text": [
            "Epoch 1\n",
            "\tTrain Loss: 0.485\n",
            "Best model saved!\n"
          ]
        },
        {
          "output_type": "stream",
          "name": "stderr",
          "text": [
            "Training: 100%|██████████| 553/553 [03:27<00:00,  2.67it/s]\n"
          ]
        },
        {
          "output_type": "stream",
          "name": "stdout",
          "text": [
            "Epoch 2\n",
            "\tTrain Loss: 0.223\n",
            "Best model saved!\n"
          ]
        },
        {
          "output_type": "stream",
          "name": "stderr",
          "text": [
            "Training: 100%|██████████| 553/553 [03:25<00:00,  2.69it/s]\n"
          ]
        },
        {
          "output_type": "stream",
          "name": "stdout",
          "text": [
            "Epoch 3\n",
            "\tTrain Loss: 0.183\n",
            "Best model saved!\n"
          ]
        },
        {
          "output_type": "stream",
          "name": "stderr",
          "text": [
            "Training: 100%|██████████| 553/553 [03:26<00:00,  2.68it/s]\n"
          ]
        },
        {
          "output_type": "stream",
          "name": "stdout",
          "text": [
            "Epoch 4\n",
            "\tTrain Loss: 0.164\n",
            "Best model saved!\n"
          ]
        },
        {
          "output_type": "stream",
          "name": "stderr",
          "text": [
            "Training: 100%|██████████| 553/553 [03:26<00:00,  2.68it/s]\n"
          ]
        },
        {
          "output_type": "stream",
          "name": "stdout",
          "text": [
            "Epoch 5\n",
            "\tTrain Loss: 0.152\n",
            "Best model saved!\n"
          ]
        },
        {
          "output_type": "stream",
          "name": "stderr",
          "text": [
            "Training: 100%|██████████| 553/553 [03:26<00:00,  2.68it/s]\n"
          ]
        },
        {
          "output_type": "stream",
          "name": "stdout",
          "text": [
            "Epoch 6\n",
            "\tTrain Loss: 0.141\n",
            "Best model saved!\n"
          ]
        },
        {
          "output_type": "stream",
          "name": "stderr",
          "text": [
            "Training: 100%|██████████| 553/553 [03:25<00:00,  2.69it/s]\n"
          ]
        },
        {
          "output_type": "stream",
          "name": "stdout",
          "text": [
            "Epoch 7\n",
            "\tTrain Loss: 0.136\n",
            "Best model saved!\n"
          ]
        },
        {
          "output_type": "stream",
          "name": "stderr",
          "text": [
            "Training: 100%|██████████| 553/553 [03:26<00:00,  2.68it/s]\n"
          ]
        },
        {
          "output_type": "stream",
          "name": "stdout",
          "text": [
            "Epoch 8\n",
            "\tTrain Loss: 0.131\n",
            "Best model saved!\n"
          ]
        },
        {
          "output_type": "stream",
          "name": "stderr",
          "text": [
            "Training: 100%|██████████| 553/553 [03:26<00:00,  2.68it/s]\n"
          ]
        },
        {
          "output_type": "stream",
          "name": "stdout",
          "text": [
            "Epoch 9\n",
            "\tTrain Loss: 0.126\n",
            "Best model saved!\n"
          ]
        },
        {
          "output_type": "stream",
          "name": "stderr",
          "text": [
            "Training: 100%|██████████| 553/553 [03:24<00:00,  2.71it/s]\n"
          ]
        },
        {
          "output_type": "stream",
          "name": "stdout",
          "text": [
            "Epoch 10\n",
            "\tTrain Loss: 0.124\n",
            "Best model saved!\n"
          ]
        },
        {
          "output_type": "stream",
          "name": "stderr",
          "text": [
            "Training: 100%|██████████| 553/553 [03:25<00:00,  2.69it/s]\n"
          ]
        },
        {
          "output_type": "stream",
          "name": "stdout",
          "text": [
            "Epoch 11\n",
            "\tTrain Loss: 0.122\n",
            "Best model saved!\n"
          ]
        },
        {
          "output_type": "stream",
          "name": "stderr",
          "text": [
            "Training: 100%|██████████| 553/553 [03:27<00:00,  2.66it/s]\n"
          ]
        },
        {
          "output_type": "stream",
          "name": "stdout",
          "text": [
            "Epoch 12\n",
            "\tTrain Loss: 0.121\n",
            "Best model saved!\n"
          ]
        },
        {
          "output_type": "stream",
          "name": "stderr",
          "text": [
            "Training: 100%|██████████| 553/553 [03:30<00:00,  2.63it/s]\n"
          ]
        },
        {
          "output_type": "stream",
          "name": "stdout",
          "text": [
            "Epoch 13\n",
            "\tTrain Loss: 0.119\n",
            "Best model saved!\n"
          ]
        },
        {
          "output_type": "stream",
          "name": "stderr",
          "text": [
            "Training: 100%|██████████| 553/553 [03:32<00:00,  2.60it/s]\n"
          ]
        },
        {
          "output_type": "stream",
          "name": "stdout",
          "text": [
            "Epoch 14\n",
            "\tTrain Loss: 0.118\n",
            "Best model saved!\n"
          ]
        },
        {
          "output_type": "stream",
          "name": "stderr",
          "text": [
            "Training: 100%|██████████| 553/553 [03:27<00:00,  2.67it/s]\n"
          ]
        },
        {
          "output_type": "stream",
          "name": "stdout",
          "text": [
            "Epoch 15\n",
            "\tTrain Loss: 0.116\n",
            "Best model saved!\n"
          ]
        },
        {
          "output_type": "stream",
          "name": "stderr",
          "text": [
            "Training: 100%|██████████| 553/553 [03:26<00:00,  2.68it/s]\n"
          ]
        },
        {
          "output_type": "stream",
          "name": "stdout",
          "text": [
            "Epoch 16\n",
            "\tTrain Loss: 0.116\n",
            "Best model saved!\n"
          ]
        },
        {
          "output_type": "stream",
          "name": "stderr",
          "text": [
            "Training: 100%|██████████| 553/553 [03:24<00:00,  2.70it/s]\n"
          ]
        },
        {
          "output_type": "stream",
          "name": "stdout",
          "text": [
            "Epoch 17\n",
            "\tTrain Loss: 0.114\n",
            "Best model saved!\n"
          ]
        },
        {
          "output_type": "stream",
          "name": "stderr",
          "text": [
            "Training: 100%|██████████| 553/553 [03:24<00:00,  2.70it/s]\n"
          ]
        },
        {
          "output_type": "stream",
          "name": "stdout",
          "text": [
            "Epoch 18\n",
            "\tTrain Loss: 0.388\n"
          ]
        },
        {
          "output_type": "stream",
          "name": "stderr",
          "text": [
            "Training: 100%|██████████| 553/553 [03:22<00:00,  2.72it/s]\n"
          ]
        },
        {
          "output_type": "stream",
          "name": "stdout",
          "text": [
            "Epoch 19\n",
            "\tTrain Loss: 1.494\n"
          ]
        },
        {
          "output_type": "stream",
          "name": "stderr",
          "text": [
            "Training: 100%|██████████| 553/553 [03:25<00:00,  2.70it/s]"
          ]
        },
        {
          "output_type": "stream",
          "name": "stdout",
          "text": [
            "Epoch 20\n",
            "\tTrain Loss: 1.494\n"
          ]
        },
        {
          "output_type": "stream",
          "name": "stderr",
          "text": [
            "\n"
          ]
        }
      ]
    },
    {
      "cell_type": "code",
      "source": [
        "import matplotlib.pyplot as plt\n",
        "%matplotlib inline\n",
        "\n",
        "def plot_losses(train_losses, test_losses):\n",
        "    plt.figure(figsize=(10, 5))\n",
        "    plt.plot(train_losses, label='Training Loss')\n",
        "    # plt.plot(test_losses, label='Test Loss')\n",
        "    plt.xlabel('Epochs')\n",
        "    plt.ylabel('Loss')\n",
        "    plt.title('Train Losses over Epochs')\n",
        "    plt.legend()\n",
        "    plt.show()\n",
        "\n",
        "  \n",
        "plot_losses(train_losses, test_losses)"
      ],
      "metadata": {
        "id": "HMs4ByOID0ZT",
        "colab": {
          "base_uri": "https://localhost:8080/",
          "height": 487
        },
        "outputId": "275e6715-f5f3-4fb9-e34c-02fce365a57b"
      },
      "execution_count": 22,
      "outputs": [
        {
          "output_type": "display_data",
          "data": {
            "text/plain": [
              "<Figure size 1000x500 with 1 Axes>"
            ],
            "image/png": "[encoded data removed]"
          },
          "metadata": {}
        }
      ]
    },
    {
      "cell_type": "code",
      "source": [
        "## Evaluation Code\n",
        "checkpoint = torch.load('best_model.pth')\n",
        "model = MyTransformer(d_model, nhead, num_encoder_layers, num_decoder_layers, dim_feedforward)\n",
        "model.load_state_dict(checkpoint)\n",
        "model.to(device)\n",
        "test_loss = evaluate(model, test_loader, criterion, device)\n",
        "print(f\"Test Loss: {test_loss}\")"
      ],
      "metadata": {
        "id": "UJYsRUt-i97z",
        "colab": {
          "base_uri": "https://localhost:8080/"
        },
        "outputId": "0d39f8ad-d184-4640-dab0-b77b7e697712"
      },
      "execution_count": 23,
      "outputs": [
        {
          "output_type": "stream",
          "name": "stderr",
          "text": [
            "Evaluating: 100%|██████████| 139/139 [00:38<00:00,  3.66it/s]"
          ]
        },
        {
          "output_type": "stream",
          "name": "stdout",
          "text": [
            "Test Loss: 0.0757004540118811\n"
          ]
        },
        {
          "output_type": "stream",
          "name": "stderr",
          "text": [
            "\n"
          ]
        }
      ]
    },
    {
      "cell_type": "markdown",
      "source": [],
      "metadata": {
        "id": "lZ1D0oGe-OkX"
      }
    }
  ]
}